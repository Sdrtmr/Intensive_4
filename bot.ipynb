{
 "cells": [
  {
   "cell_type": "code",
   "execution_count": 10,
   "metadata": {},
   "outputs": [
    {
     "name": "stdout",
     "output_type": "stream",
     "text": [
      "Загружено комментариев: 1681\n"
     ]
    },
    {
     "data": {
      "text/plain": [
       "<Task pending name='Task-5' coro=<run_bot() running at C:\\Users\\2k\\AppData\\Local\\Temp\\ipykernel_5472\\4022305498.py:85>>"
      ]
     },
     "execution_count": 10,
     "metadata": {},
     "output_type": "execute_result"
    },
    {
     "name": "stdout",
     "output_type": "stream",
     "text": [
      "Бот запущен...\n"
     ]
    }
   ],
   "source": [
    "import telegram\n",
    "from telegram.ext import ApplicationBuilder, CommandHandler, MessageHandler, filters\n",
    "import pandas as pd\n",
    "import re\n",
    "\n",
    "# Функция для очистки текста\n",
    "def clean_text(text):\n",
    "    text = text.strip().lower()\n",
    "    text = re.sub(r'[^\\w\\s.,!?:;]', '', text)\n",
    "    return text\n",
    "\n",
    "# Загрузка данных\n",
    "def load_comments():\n",
    "    try:\n",
    "        df = pd.read_csv('разметка комментариев 2.csv', on_bad_lines='skip', engine='python', encoding='utf-8')\n",
    "        comment_dict = {}\n",
    "\n",
    "        if 'comment' in df.columns and 'rating' in df.columns:\n",
    "            for _, row in df.iterrows():\n",
    "                comment = str(row['comment']).strip()\n",
    "                rating = int(row['rating'])\n",
    "                normalized = clean_text(comment)\n",
    "                comment_dict[normalized] = rating\n",
    "        else:\n",
    "            with open('разметка комментариев 2.csv', 'r', encoding='utf-8') as f:\n",
    "                lines = [line.strip() for line in f if line.strip()]\n",
    "            i = 0\n",
    "            while i < len(lines):\n",
    "                parts = lines[i].split(',')\n",
    "                try:\n",
    "                    rating = int(parts[1])\n",
    "                    comment = ','.join(parts[2:]).strip()\n",
    "                    normalized = clean_text(comment)\n",
    "                    comment_dict[normalized] = rating\n",
    "                    i += 1\n",
    "                except:\n",
    "                    i += 1\n",
    "        return comment_dict\n",
    "    except Exception as e:\n",
    "        print(\"Ошибка загрузки данных:\", e)\n",
    "        return {}\n",
    "\n",
    "# Определение тональности\n",
    "def get_sentiment(rating):\n",
    "    if rating == 5:\n",
    "        return \"🟢 Позитивный\"\n",
    "    elif rating == 4:\n",
    "        return \"🟠 Нейтральный\"\n",
    "    else:\n",
    "        return \"🔴 Негативный\"\n",
    "\n",
    "# Обработчики\n",
    "async def start(update: telegram.Update, context: telegram.ext.CallbackContext):\n",
    "    await update.message.reply_text(\"Привет! Напиши комментарий, и я скажу, позитивный он или нет.\")\n",
    "\n",
    "async def handle_message(update: telegram.Update, context: telegram.ext.CallbackContext):\n",
    "    user_input = update.message.text.strip()\n",
    "    cleaned_input = clean_text(user_input)\n",
    "\n",
    "    rating = comment_dict.get(cleaned_input)\n",
    "\n",
    "    if rating is None:\n",
    "        await update.message.reply_text(\"Комментарий не найден\")\n",
    "    else:\n",
    "        sentiment = get_sentiment(rating)\n",
    "        await update.message.reply_text(f\"Рейтинг: {rating}\\nТональность: {sentiment}\")\n",
    "\n",
    "# Загрузка комментариев\n",
    "comment_dict = load_comments()\n",
    "print(\"Загружено комментариев:\", len(comment_dict))\n",
    "\n",
    "# Создаем приложение\n",
    "app = ApplicationBuilder().token(\"7917572552:AAG4PrRjBV578gPy0WupsvsX_y0WL7C7z-Y\").build()\n",
    "\n",
    "# Добавляем обработчики\n",
    "app.add_handler(CommandHandler(\"start\", start))\n",
    "app.add_handler(MessageHandler(filters.TEXT & ~filters.COMMAND, handle_message))\n",
    "\n",
    "# Для Jupyter Notebook\n",
    "import asyncio\n",
    "import nest_asyncio\n",
    "\n",
    "nest_asyncio.apply()  # Применяем патч для async\n",
    "\n",
    "async def run_bot():\n",
    "    await app.initialize()\n",
    "    await app.start()\n",
    "    await app.updater.start_polling()\n",
    "    print(\"Бот запущен...\")\n",
    "\n",
    "# Запуск бота в текущем цикле\n",
    "asyncio.get_event_loop().create_task(run_bot())"
   ]
  },
  {
   "cell_type": "markdown",
   "metadata": {},
   "source": [
    "Ссылка на бота: t.me/intens0_bot"
   ]
  }
 ],
 "metadata": {
  "kernelspec": {
   "display_name": "Python 3",
   "language": "python",
   "name": "python3"
  },
  "language_info": {
   "codemirror_mode": {
    "name": "ipython",
    "version": 3
   },
   "file_extension": ".py",
   "mimetype": "text/x-python",
   "name": "python",
   "nbconvert_exporter": "python",
   "pygments_lexer": "ipython3",
   "version": "3.11.9"
  }
 },
 "nbformat": 4,
 "nbformat_minor": 2
}
